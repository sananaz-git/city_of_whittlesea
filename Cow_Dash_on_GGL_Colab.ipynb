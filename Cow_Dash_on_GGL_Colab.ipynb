{
  "cells": [
    {
      "cell_type": "markdown",
      "metadata": {
        "id": "view-in-github",
        "colab_type": "text"
      },
      "source": [
        "<a href=\"https://colab.research.google.com/github/sananaz-git/city_of_whittlesea/blob/main/Cow_Dash_on_GGL_Colab.ipynb\" target=\"_parent\"><img src=\"https://colab.research.google.com/assets/colab-badge.svg\" alt=\"Open In Colab\"/></a>"
      ]
    },
    {
      "cell_type": "code",
      "execution_count": 25,
      "metadata": {
        "id": "OL_kFDnXHt7H"
      },
      "outputs": [],
      "source": [
        "!pip install jupyter-dash -q"
      ]
    },
    {
      "cell_type": "code",
      "execution_count": 26,
      "metadata": {
        "id": "1ZQlSixxHt7K"
      },
      "outputs": [],
      "source": [
        "!pip install dash-cytoscape -q"
      ]
    },
    {
      "cell_type": "code",
      "source": [
        "!pip install dash-extensions"
      ],
      "metadata": {
        "colab": {
          "base_uri": "https://localhost:8080/"
        },
        "id": "blzFboCrRexI",
        "outputId": "9abca532-15f2-4b01-f5d1-f2d8ee51634b"
      },
      "execution_count": 27,
      "outputs": [
        {
          "output_type": "stream",
          "name": "stdout",
          "text": [
            "Looking in indexes: https://pypi.org/simple, https://us-python.pkg.dev/colab-wheels/public/simple/\n",
            "Requirement already satisfied: dash-extensions in /usr/local/lib/python3.7/dist-packages (0.1.3)\n",
            "Requirement already satisfied: dash<3.0.0,>=2.3.1 in /usr/local/lib/python3.7/dist-packages (from dash-extensions) (2.4.1)\n",
            "Requirement already satisfied: jsbeautifier<2.0.0,>=1.14.3 in /usr/local/lib/python3.7/dist-packages (from dash-extensions) (1.14.3)\n",
            "Requirement already satisfied: Flask-Caching<2.0.0,>=1.10.1 in /usr/local/lib/python3.7/dist-packages (from dash-extensions) (1.10.1)\n",
            "Requirement already satisfied: more-itertools<9.0.0,>=8.12.0 in /usr/local/lib/python3.7/dist-packages (from dash-extensions) (8.13.0)\n",
            "Requirement already satisfied: dash-table==5.0.0 in /usr/local/lib/python3.7/dist-packages (from dash<3.0.0,>=2.3.1->dash-extensions) (5.0.0)\n",
            "Requirement already satisfied: plotly>=5.0.0 in /usr/local/lib/python3.7/dist-packages (from dash<3.0.0,>=2.3.1->dash-extensions) (5.5.0)\n",
            "Requirement already satisfied: dash-core-components==2.0.0 in /usr/local/lib/python3.7/dist-packages (from dash<3.0.0,>=2.3.1->dash-extensions) (2.0.0)\n",
            "Requirement already satisfied: Flask>=1.0.4 in /usr/local/lib/python3.7/dist-packages (from dash<3.0.0,>=2.3.1->dash-extensions) (1.1.4)\n",
            "Requirement already satisfied: flask-compress in /usr/local/lib/python3.7/dist-packages (from dash<3.0.0,>=2.3.1->dash-extensions) (1.12)\n",
            "Requirement already satisfied: dash-html-components==2.0.0 in /usr/local/lib/python3.7/dist-packages (from dash<3.0.0,>=2.3.1->dash-extensions) (2.0.0)\n",
            "Requirement already satisfied: click<8.0,>=5.1 in /usr/local/lib/python3.7/dist-packages (from Flask>=1.0.4->dash<3.0.0,>=2.3.1->dash-extensions) (7.1.2)\n",
            "Requirement already satisfied: Werkzeug<2.0,>=0.15 in /usr/local/lib/python3.7/dist-packages (from Flask>=1.0.4->dash<3.0.0,>=2.3.1->dash-extensions) (1.0.1)\n",
            "Requirement already satisfied: Jinja2<3.0,>=2.10.1 in /usr/local/lib/python3.7/dist-packages (from Flask>=1.0.4->dash<3.0.0,>=2.3.1->dash-extensions) (2.11.3)\n",
            "Requirement already satisfied: itsdangerous<2.0,>=0.24 in /usr/local/lib/python3.7/dist-packages (from Flask>=1.0.4->dash<3.0.0,>=2.3.1->dash-extensions) (1.1.0)\n",
            "Requirement already satisfied: MarkupSafe>=0.23 in /usr/local/lib/python3.7/dist-packages (from Jinja2<3.0,>=2.10.1->Flask>=1.0.4->dash<3.0.0,>=2.3.1->dash-extensions) (2.0.1)\n",
            "Requirement already satisfied: six>=1.13.0 in /usr/local/lib/python3.7/dist-packages (from jsbeautifier<2.0.0,>=1.14.3->dash-extensions) (1.15.0)\n",
            "Requirement already satisfied: editorconfig>=0.12.2 in /usr/local/lib/python3.7/dist-packages (from jsbeautifier<2.0.0,>=1.14.3->dash-extensions) (0.12.3)\n",
            "Requirement already satisfied: tenacity>=6.2.0 in /usr/local/lib/python3.7/dist-packages (from plotly>=5.0.0->dash<3.0.0,>=2.3.1->dash-extensions) (8.0.1)\n",
            "Requirement already satisfied: brotli in /usr/local/lib/python3.7/dist-packages (from flask-compress->dash<3.0.0,>=2.3.1->dash-extensions) (1.0.9)\n"
          ]
        }
      ]
    },
    {
      "cell_type": "code",
      "source": [
        "!pip install dash-bootstrap-components"
      ],
      "metadata": {
        "colab": {
          "base_uri": "https://localhost:8080/"
        },
        "id": "5Z8Ijex5Rkt1",
        "outputId": "b921055f-8e6a-416a-d8d2-0da389bfdb6c"
      },
      "execution_count": 28,
      "outputs": [
        {
          "output_type": "stream",
          "name": "stdout",
          "text": [
            "Looking in indexes: https://pypi.org/simple, https://us-python.pkg.dev/colab-wheels/public/simple/\n",
            "Requirement already satisfied: dash-bootstrap-components in /usr/local/lib/python3.7/dist-packages (1.1.0)\n",
            "Requirement already satisfied: dash>=2.0.0 in /usr/local/lib/python3.7/dist-packages (from dash-bootstrap-components) (2.4.1)\n",
            "Requirement already satisfied: dash-html-components==2.0.0 in /usr/local/lib/python3.7/dist-packages (from dash>=2.0.0->dash-bootstrap-components) (2.0.0)\n",
            "Requirement already satisfied: dash-core-components==2.0.0 in /usr/local/lib/python3.7/dist-packages (from dash>=2.0.0->dash-bootstrap-components) (2.0.0)\n",
            "Requirement already satisfied: plotly>=5.0.0 in /usr/local/lib/python3.7/dist-packages (from dash>=2.0.0->dash-bootstrap-components) (5.5.0)\n",
            "Requirement already satisfied: dash-table==5.0.0 in /usr/local/lib/python3.7/dist-packages (from dash>=2.0.0->dash-bootstrap-components) (5.0.0)\n",
            "Requirement already satisfied: flask-compress in /usr/local/lib/python3.7/dist-packages (from dash>=2.0.0->dash-bootstrap-components) (1.12)\n",
            "Requirement already satisfied: Flask>=1.0.4 in /usr/local/lib/python3.7/dist-packages (from dash>=2.0.0->dash-bootstrap-components) (1.1.4)\n",
            "Requirement already satisfied: Werkzeug<2.0,>=0.15 in /usr/local/lib/python3.7/dist-packages (from Flask>=1.0.4->dash>=2.0.0->dash-bootstrap-components) (1.0.1)\n",
            "Requirement already satisfied: itsdangerous<2.0,>=0.24 in /usr/local/lib/python3.7/dist-packages (from Flask>=1.0.4->dash>=2.0.0->dash-bootstrap-components) (1.1.0)\n",
            "Requirement already satisfied: Jinja2<3.0,>=2.10.1 in /usr/local/lib/python3.7/dist-packages (from Flask>=1.0.4->dash>=2.0.0->dash-bootstrap-components) (2.11.3)\n",
            "Requirement already satisfied: click<8.0,>=5.1 in /usr/local/lib/python3.7/dist-packages (from Flask>=1.0.4->dash>=2.0.0->dash-bootstrap-components) (7.1.2)\n",
            "Requirement already satisfied: MarkupSafe>=0.23 in /usr/local/lib/python3.7/dist-packages (from Jinja2<3.0,>=2.10.1->Flask>=1.0.4->dash>=2.0.0->dash-bootstrap-components) (2.0.1)\n",
            "Requirement already satisfied: tenacity>=6.2.0 in /usr/local/lib/python3.7/dist-packages (from plotly>=5.0.0->dash>=2.0.0->dash-bootstrap-components) (8.0.1)\n",
            "Requirement already satisfied: six in /usr/local/lib/python3.7/dist-packages (from plotly>=5.0.0->dash>=2.0.0->dash-bootstrap-components) (1.15.0)\n",
            "Requirement already satisfied: brotli in /usr/local/lib/python3.7/dist-packages (from flask-compress->dash>=2.0.0->dash-bootstrap-components) (1.0.9)\n"
          ]
        }
      ]
    },
    {
      "cell_type": "code",
      "source": [
        "!pip install wordcloud"
      ],
      "metadata": {
        "colab": {
          "base_uri": "https://localhost:8080/"
        },
        "id": "f2kd6A12RrNd",
        "outputId": "f523eb7d-2e7c-4c6b-def1-d7e050e078de"
      },
      "execution_count": 29,
      "outputs": [
        {
          "output_type": "stream",
          "name": "stdout",
          "text": [
            "Looking in indexes: https://pypi.org/simple, https://us-python.pkg.dev/colab-wheels/public/simple/\n",
            "Requirement already satisfied: wordcloud in /usr/local/lib/python3.7/dist-packages (1.5.0)\n",
            "Requirement already satisfied: pillow in /usr/local/lib/python3.7/dist-packages (from wordcloud) (7.1.2)\n",
            "Requirement already satisfied: numpy>=1.6.1 in /usr/local/lib/python3.7/dist-packages (from wordcloud) (1.21.6)\n"
          ]
        }
      ]
    },
    {
      "cell_type": "code",
      "source": [
        "from jupyter_dash import JupyterDash     # pip install dash\n",
        "from dash import html\n",
        "from dash import dcc\n",
        "from dash.dependencies import Output, Input\n",
        "\n",
        "from dash_extensions import Lottie       # pip install dash-extensions\n",
        "import dash_bootstrap_components as dbc  # pip install dash-bootstrap-components\n",
        "import plotly.express as px              # pip install plotly\n",
        "import pandas as pd                      # pip install pandas\n",
        "import numpy as np\n",
        "%matplotlib inline\n",
        "import seaborn as sns\n",
        "import matplotlib.pyplot as plt\n",
        "\n",
        "from datetime import date\n",
        "import calendar\n",
        "from wordcloud import WordCloud          # pip install wordcloud"
      ],
      "metadata": {
        "id": "sKtZmCYaTOwG"
      },
      "execution_count": 30,
      "outputs": []
    },
    {
      "cell_type": "code",
      "source": [
        "!pip install plotnine\n",
        "from plotnine import *\n",
        "import plotnine"
      ],
      "metadata": {
        "colab": {
          "base_uri": "https://localhost:8080/"
        },
        "id": "iY0yFY2aTfpT",
        "outputId": "3714869a-cb8f-4adb-99f4-7aabc47d27ef"
      },
      "execution_count": null,
      "outputs": [
        {
          "output_type": "stream",
          "name": "stdout",
          "text": [
            "Looking in indexes: https://pypi.org/simple, https://us-python.pkg.dev/colab-wheels/public/simple/\n",
            "Requirement already satisfied: plotnine in /usr/local/lib/python3.7/dist-packages (0.6.0)\n",
            "Requirement already satisfied: statsmodels>=0.9.0 in /usr/local/lib/python3.7/dist-packages (from plotnine) (0.10.2)\n",
            "Requirement already satisfied: pandas>=0.25.0 in /usr/local/lib/python3.7/dist-packages (from plotnine) (1.3.5)\n",
            "Requirement already satisfied: numpy>=1.16.0 in /usr/local/lib/python3.7/dist-packages (from plotnine) (1.21.6)\n",
            "Requirement already satisfied: matplotlib>=3.1.1 in /usr/local/lib/python3.7/dist-packages (from plotnine) (3.2.2)\n",
            "Requirement already satisfied: descartes>=1.1.0 in /usr/local/lib/python3.7/dist-packages (from plotnine) (1.1.0)\n",
            "Requirement already satisfied: mizani>=0.6.0 in /usr/local/lib/python3.7/dist-packages (from plotnine) (0.6.0)\n",
            "Requirement already satisfied: scipy>=1.2.0 in /usr/local/lib/python3.7/dist-packages (from plotnine) (1.4.1)\n",
            "Requirement already satisfied: patsy>=0.4.1 in /usr/local/lib/python3.7/dist-packages (from plotnine) (0.5.2)\n",
            "Requirement already satisfied: python-dateutil>=2.1 in /usr/local/lib/python3.7/dist-packages (from matplotlib>=3.1.1->plotnine) (2.8.2)\n",
            "Requirement already satisfied: kiwisolver>=1.0.1 in /usr/local/lib/python3.7/dist-packages (from matplotlib>=3.1.1->plotnine) (1.4.2)\n",
            "Requirement already satisfied: pyparsing!=2.0.4,!=2.1.2,!=2.1.6,>=2.0.1 in /usr/local/lib/python3.7/dist-packages (from matplotlib>=3.1.1->plotnine) (3.0.9)\n",
            "Requirement already satisfied: cycler>=0.10 in /usr/local/lib/python3.7/dist-packages (from matplotlib>=3.1.1->plotnine) (0.11.0)\n",
            "Requirement already satisfied: typing-extensions in /usr/local/lib/python3.7/dist-packages (from kiwisolver>=1.0.1->matplotlib>=3.1.1->plotnine) (4.2.0)\n",
            "Requirement already satisfied: palettable in /usr/local/lib/python3.7/dist-packages (from mizani>=0.6.0->plotnine) (3.3.0)\n",
            "Requirement already satisfied: pytz>=2017.3 in /usr/local/lib/python3.7/dist-packages (from pandas>=0.25.0->plotnine) (2022.1)\n",
            "Requirement already satisfied: six in /usr/local/lib/python3.7/dist-packages (from patsy>=0.4.1->plotnine) (1.15.0)\n"
          ]
        }
      ]
    },
    {
      "cell_type": "code",
      "source": [
        "filepath = \"/content/FactorScores.csv\"\n",
        "factor_df = pd.read_csv(filepath)\n",
        "filepath = \"/content/merged_cleaned.csv\"\n",
        "merged_df = pd.read_csv(filepath)"
      ],
      "metadata": {
        "id": "EW1R_kdiTihr"
      },
      "execution_count": null,
      "outputs": []
    },
    {
      "cell_type": "code",
      "source": [
        "pd.options.display.max_rows = 608\n",
        "pd.options.display.max_columns = 527"
      ],
      "metadata": {
        "id": "Hit3Hs__T4Vu"
      },
      "execution_count": null,
      "outputs": []
    },
    {
      "cell_type": "code",
      "execution_count": 32,
      "metadata": {
        "colab": {
          "base_uri": "https://localhost:8080/",
          "height": 671
        },
        "id": "_c5mcpJJHt7K",
        "outputId": "fb5fe178-8027-4414-c874-23992d8420b7"
      },
      "outputs": [
        {
          "output_type": "display_data",
          "data": {
            "text/plain": [
              "<IPython.core.display.Javascript object>"
            ],
            "application/javascript": [
              "(async (port, path, width, height, cache, element) => {\n",
              "    if (!google.colab.kernel.accessAllowed && !cache) {\n",
              "      return;\n",
              "    }\n",
              "    element.appendChild(document.createTextNode(''));\n",
              "    const url = await google.colab.kernel.proxyPort(port, {cache});\n",
              "    const iframe = document.createElement('iframe');\n",
              "    iframe.src = new URL(path, url).toString();\n",
              "    iframe.height = height;\n",
              "    iframe.width = width;\n",
              "    iframe.style.border = 0;\n",
              "    element.appendChild(iframe);\n",
              "  })(8030, \"/\", \"100%\", 650, false, window.element)"
            ]
          },
          "metadata": {}
        }
      ],
      "source": [
        "\n",
        "# Lottie by Emil - https://github.com/thedirtyfew/dash-extensions\n",
        "url_coonections = \"https://assets9.lottiefiles.com/packages/lf20_gv6ovc3h.json\"\n",
        "url_companies = \"https://assets3.lottiefiles.com/packages/lf20_otwkmzu4.json\"\n",
        "url_msg_in = \"https://assets5.lottiefiles.com/packages/lf20_XCWz7k.json\"\n",
        "url_msg_out = \"https://assets2.lottiefiles.com/packages/lf20_Cc8Bpg.json\"\n",
        "url_reactions = \"https://assets2.lottiefiles.com/packages/lf20_nKwET0.json\"\n",
        "options = dict(loop=True, autoplay=True, rendererSettings=dict(preserveAspectRatio='xMidYMid slice'))\n",
        "\n",
        "\n",
        "# Import App data from csv sheets **************************************\n",
        "df_cnt = pd.read_csv(\"https://raw.githubusercontent.com/Coding-with-Adam/Dash-by-Plotly/master/Analytic_Web_Apps/Linkedin_Analysis/Connections.csv\")\n",
        "df_cnt[\"Connected On\"] = pd.to_datetime(df_cnt[\"Connected On\"])\n",
        "df_cnt[\"month\"] = df_cnt[\"Connected On\"].dt.month\n",
        "df_cnt['month'] = df_cnt['month'].apply(lambda x: calendar.month_abbr[x])\n",
        "\n",
        "df_invite = pd.read_csv(\"https://raw.githubusercontent.com/Coding-with-Adam/Dash-by-Plotly/master/Analytic_Web_Apps/Linkedin_Analysis/Invitations.csv\")\n",
        "df_invite[\"Sent At\"] = pd.to_datetime(df_invite[\"Sent At\"])\n",
        "\n",
        "df_react = pd.read_csv(\"https://raw.githubusercontent.com/Coding-with-Adam/Dash-by-Plotly/master/Analytic_Web_Apps/Linkedin_Analysis/Reactions.csv\")\n",
        "df_react[\"Date\"] = pd.to_datetime(df_react[\"Date\"])\n",
        "\n",
        "df_msg = pd.read_csv(\"https://raw.githubusercontent.com/Coding-with-Adam/Dash-by-Plotly/master/Analytic_Web_Apps/Linkedin_Analysis/messages.csv\")\n",
        "df_msg[\"DATE\"] = pd.to_datetime(df_msg[\"DATE\"])\n",
        "\n",
        "\n",
        "# Bootstrap themes by Ann: https://hellodash.pythonanywhere.com/theme_explorer\n",
        "app = JupyterDash(__name__, external_stylesheets=[dbc.themes.PULSE])\n",
        "\n",
        "app.layout = dbc.Container([\n",
        "    dbc.Row([\n",
        "        dbc.Col([\n",
        "            dbc.Card([\n",
        "                dbc.CardImg(src=\"/content/cow.png\") # 150px by 45px\n",
        "            ],className='mb-2'),\n",
        "            dbc.Card([\n",
        "                dbc.CardBody([\n",
        "                    dbc.CardLink(\"City Of Whittlesea\", target=\"_blank\",\n",
        "                                 href=\"https://www.whittlesea.vic.gov.au/\"\n",
        "                    )\n",
        "                ])\n",
        "            ]),\n",
        "        ], width=2),\n",
        "        dbc.Col([\n",
        "            dbc.Card([\n",
        "                dbc.CardBody([\n",
        "                    dcc.DatePickerSingle(\n",
        "                        id='my-date-picker-start',\n",
        "                        date=date(2018, 1, 1),\n",
        "                        className='ml-5'\n",
        "                    ),\n",
        "                    dcc.DatePickerSingle(\n",
        "                        id='my-date-picker-end',\n",
        "                        date=date(2021, 4, 4),\n",
        "                        className='mb-2 ml-2'\n",
        "                    ),\n",
        "                ])\n",
        "            ], color=\"purple\", style={'height':'18vh'}),\n",
        "        ], width=8),\n",
        "    ],className='mb-2 mt-2'),\n",
        "    dbc.Row([\n",
        "        dbc.Col([\n",
        "            dbc.Card([\n",
        "                dbc.CardHeader(Lottie(options=options, width=\"67%\", height=\"67%\", url=url_coonections)),\n",
        "                dbc.CardBody([\n",
        "                    html.H6('Connections'),\n",
        "                    html.H2(id='content-connections', children=\"000\")\n",
        "                ], style={'textAlign':'center'})\n",
        "            ]),\n",
        "        ], width=2),\n",
        "        dbc.Col([\n",
        "            dbc.Card([\n",
        "                dbc.CardHeader(Lottie(options=options, width=\"32%\", height=\"32%\", url=url_companies)),\n",
        "                dbc.CardBody([\n",
        "                    html.H6('Companies'),\n",
        "                    html.H2(id='content-companies', children=\"000\")\n",
        "                ], style={'textAlign':'center'})\n",
        "            ]),\n",
        "        ], width=2),\n",
        "        dbc.Col([\n",
        "            dbc.Card([\n",
        "                dbc.CardHeader(Lottie(options=options, width=\"25%\", height=\"25%\", url=url_msg_in)),\n",
        "                dbc.CardBody([\n",
        "                    html.H6('Invites received'),\n",
        "                    html.H2(id='content-msg-in', children=\"000\")\n",
        "                ], style={'textAlign':'center'})\n",
        "            ]),\n",
        "        ], width=2),\n",
        "        dbc.Col([\n",
        "            dbc.Card([\n",
        "                dbc.CardHeader(Lottie(options=options, width=\"53%\", height=\"53%\", url=url_msg_out)),\n",
        "                dbc.CardBody([\n",
        "                    html.H6('Invites sent'),\n",
        "                    html.H2(id='content-msg-out', children=\"000\")\n",
        "                ], style={'textAlign': 'center'})\n",
        "            ]),\n",
        "        ], width=2),\n",
        "        dbc.Col([\n",
        "            dbc.Card([\n",
        "                dbc.CardHeader(Lottie(options=options, width=\"25%\", height=\"25%\", url=url_reactions)),\n",
        "                dbc.CardBody([\n",
        "                    html.H6('Reactions'),\n",
        "                    html.H2(id='content-reactions', children=\"000\")\n",
        "                ], style={'textAlign': 'center'})\n",
        "            ]),\n",
        "        ], width=2),\n",
        "    ],className='mb-2'),\n",
        "    dbc.Row([\n",
        "        dbc.Col([\n",
        "            dbc.Card([\n",
        "                dbc.CardBody([\n",
        "                    dcc.Graph(id='line-chart', figure={}, config={'displayModeBar': False}),\n",
        "                ])\n",
        "            ]),\n",
        "        ], width=6),\n",
        "        dbc.Col([\n",
        "            dbc.Card([\n",
        "                dbc.CardBody([\n",
        "                    dcc.Graph(id='bar-chart', figure={}, config={'displayModeBar': False}),\n",
        "                ])\n",
        "            ]),\n",
        "        ], width=4),\n",
        "    ],className='mb-2'),\n",
        "    dbc.Row([\n",
        "        dbc.Col([\n",
        "            dbc.Card([\n",
        "                dbc.CardBody([\n",
        "                    dcc.Graph(id='TBD', figure={}),\n",
        "                ])\n",
        "            ]),\n",
        "        ], width=3),\n",
        "        dbc.Col([\n",
        "            dbc.Card([\n",
        "                dbc.CardBody([\n",
        "                    dcc.Graph(id='pie-chart', figure={}, config={'displayModeBar': False}),\n",
        "                ])\n",
        "            ]),\n",
        "        ], width=3),\n",
        "        dbc.Col([\n",
        "            dbc.Card([\n",
        "                dbc.CardBody([\n",
        "                    dcc.Graph(id='wordcloud', figure={}, config={'displayModeBar': False}),\n",
        "                ])\n",
        "            ]),\n",
        "        ], width=4),\n",
        "    ],className='mb-2'),\n",
        "], fluid=True)\n",
        "\n",
        "\n",
        "# Updating the 5 number cards ******************************************\n",
        "@app.callback(\n",
        "    Output('content-connections','children'),\n",
        "    Output('content-companies','children'),\n",
        "    Output('content-msg-in','children'),\n",
        "    Output('content-msg-out','children'),\n",
        "    Output('content-reactions','children'),\n",
        "    Input('my-date-picker-start','date'),\n",
        "    Input('my-date-picker-end','date'),\n",
        ")\n",
        "def update_small_cards(start_date, end_date):\n",
        "    # Connections\n",
        "    dff_c = df_cnt.copy()\n",
        "\n",
        "    dff_c = dff_c[(dff_c['Connected On']>=start_date) & (dff_c['Connected On']<=end_date)]\n",
        "    conctns_num = len(dff_c)\n",
        "    compns_num = len(dff_c['Company'].unique())\n",
        "\n",
        "    # Invitations\n",
        "    dff_i = df_invite.copy()\n",
        "    dff_i = dff_i[(dff_i['Sent At']>=start_date) & (dff_i['Sent At']<=end_date)]\n",
        "    # print(dff_i)\n",
        "    in_num = len(dff_i[dff_i['Direction']=='INCOMING'])\n",
        "    out_num = len(dff_i[dff_i['Direction']=='OUTGOING'])\n",
        "\n",
        "    # Reactions\n",
        "    dff_r = df_react.copy()\n",
        "    dff_r = dff_r[(dff_r['Date']>=start_date) & (dff_r['Date']<=end_date)]\n",
        "    reactns_num = len(dff_r)\n",
        "\n",
        "    return conctns_num, compns_num, in_num, out_num, reactns_num\n",
        "\n",
        "\n",
        "# Line Chart ***********************************************************\n",
        "@app.callback(\n",
        "    Output('line-chart','figure'),\n",
        "    Input('my-date-picker-start','date'),\n",
        "    Input('my-date-picker-end','date'),\n",
        ")\n",
        "def update_line(start_date, end_date):\n",
        "    dff = df_cnt.copy()\n",
        "    dff = dff[(dff['Connected On']>=start_date) & (dff['Connected On']<=end_date)]\n",
        "    dff = dff[[\"month\"]].value_counts()\n",
        "    dff = dff.to_frame()\n",
        "    dff.reset_index(inplace=True)\n",
        "    dff.rename(columns={0: 'Total connections'}, inplace=True)\n",
        "\n",
        "    fig_line = px.line(dff, x='month', y='Total connections', template='ggplot2',\n",
        "                  title=\"Total Connections by Month Name\")\n",
        "    fig_line.update_traces(mode=\"lines+markers\", fill='tozeroy',line={'color':'blue'})\n",
        "    fig_line.update_layout(margin=dict(l=20, r=20, t=30, b=20))\n",
        "\n",
        "    return fig_line\n",
        "\n",
        "\n",
        "# Bar Chart ************************************************************\n",
        "@app.callback(\n",
        "    Output('bar-chart','figure'),\n",
        "    Input('my-date-picker-start','date'),\n",
        "    Input('my-date-picker-end','date'),\n",
        ")\n",
        "def update_bar(start_date, end_date):\n",
        "    dff = df_cnt.copy()\n",
        "    dff = dff[(dff['Connected On']>=start_date) & (dff['Connected On']<=end_date)]\n",
        "\n",
        "    dff = dff[[\"Company\"]].value_counts().head(6)\n",
        "    dff = dff.to_frame()\n",
        "    dff.reset_index(inplace=True)\n",
        "    dff.rename(columns={0:'Total connections'}, inplace=True)\n",
        "    # print(dff_comp)\n",
        "    fig_bar = px.bar(dff, x='Total connections', y='Company', template='ggplot2',\n",
        "                      orientation='h', title=\"Total Connections by Company\")\n",
        "    fig_bar.update_yaxes(tickangle=45)\n",
        "    fig_bar.update_layout(margin=dict(l=20, r=20, t=30, b=20))\n",
        "    fig_bar.update_traces(marker_color='blue')\n",
        "\n",
        "    return fig_bar\n",
        "\n",
        "\n",
        "# Pie Chart ************************************************************\n",
        "@app.callback(\n",
        "    Output('pie-chart','figure'),\n",
        "    Input('my-date-picker-start','date'),\n",
        "    Input('my-date-picker-end','date'),\n",
        ")\n",
        "def update_pie(start_date, end_date):\n",
        "    dff = df_msg.copy()\n",
        "    dff = dff[(dff['DATE']>=start_date) & (dff['DATE']<=end_date)]\n",
        "    msg_sent = len(dff[dff['FROM']=='Adam Schroeder'])\n",
        "    msg_rcvd = len(dff[dff['FROM'] != 'Adam Schroeder'])\n",
        "    fig_pie = px.pie(names=['Sent','Received'], values=[msg_sent, msg_rcvd],\n",
        "                     template='ggplot2', title=\"Messages Sent & Received\"\n",
        "                     )\n",
        "    fig_pie.update_layout(margin=dict(l=20, r=20, t=30, b=20))\n",
        "    fig_pie.update_traces(marker_colors=['red','blue'])\n",
        "\n",
        "    return fig_pie\n",
        "\n",
        "\n",
        "# Word Cloud ************************************************************\n",
        "@app.callback(\n",
        "    Output('wordcloud','figure'),\n",
        "    Input('my-date-picker-start','date'),\n",
        "    Input('my-date-picker-end','date'),\n",
        ")\n",
        "def update_pie(start_date, end_date):\n",
        "    dff = df_cnt.copy()\n",
        "    dff = dff.Position[(dff['Connected On']>=start_date) & (dff['Connected On']<=end_date)].astype(str)\n",
        "\n",
        "    my_wordcloud = WordCloud(\n",
        "        background_color='white',\n",
        "        height=275\n",
        "    ).generate(' '.join(dff))\n",
        "\n",
        "    fig_wordcloud = px.imshow(my_wordcloud, template='ggplot2',\n",
        "                              title=\"Total Connections by Position\")\n",
        "    fig_wordcloud.update_layout(margin=dict(l=20, r=20, t=30, b=20))\n",
        "    fig_wordcloud.update_xaxes(visible=False)\n",
        "    fig_wordcloud.update_yaxes(visible=False)\n",
        "\n",
        "    return fig_wordcloud\n",
        "\n",
        "\n",
        "app.run_server(mode='inline',port=8030)\n",
        "\n"
      ]
    }
  ],
  "metadata": {
    "kernelspec": {
      "display_name": "Python 3",
      "language": "python",
      "name": "python3"
    },
    "language_info": {
      "codemirror_mode": {
        "name": "ipython",
        "version": 3
      },
      "file_extension": ".py",
      "mimetype": "text/x-python",
      "name": "python",
      "nbconvert_exporter": "python",
      "pygments_lexer": "ipython3",
      "version": "3.8.3"
    },
    "colab": {
      "name": "Cow_Dash-on-GGL-Colab.ipynb",
      "provenance": [],
      "collapsed_sections": [],
      "include_colab_link": true
    }
  },
  "nbformat": 4,
  "nbformat_minor": 0
}